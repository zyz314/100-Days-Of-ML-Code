{
  "nbformat": 4,
  "nbformat_minor": 0,
  "metadata": {
    "colab": {
      "provenance": [],
      "authorship_tag": "ABX9TyOCyYYd7ZdC9f/jkgo21XZA",
      "include_colab_link": true
    },
    "kernelspec": {
      "name": "python3",
      "display_name": "Python 3"
    },
    "language_info": {
      "name": "python"
    }
  },
  "cells": [
    {
      "cell_type": "markdown",
      "metadata": {
        "id": "view-in-github",
        "colab_type": "text"
      },
      "source": [
        "<a href=\"https://colab.research.google.com/github/zyz314/100-Days-Of-ML-Code/blob/master/project6_4_2.ipynb\" target=\"_parent\"><img src=\"https://colab.research.google.com/assets/colab-badge.svg\" alt=\"Open In Colab\"/></a>"
      ]
    },
    {
      "cell_type": "code",
      "execution_count": null,
      "metadata": {
        "id": "h6J63kVQ4CUB"
      },
      "outputs": [],
      "source": [
        "\n",
        "# testproject.py\n",
        "\n",
        "import pandas as pd\n",
        "import numpy as np\n",
        "import matplotlib.pyplot as plt\n",
        "\n",
        "import util\n",
        "from util import get_data, plot_data\n",
        "\n",
        "import indicators as ind\n",
        "from indicators import work_all_indicators, plot_indicators\n",
        "\n",
        "import marketsimcode as mc\n",
        "from marketsimcode import market_simulator, generate_statistics\n",
        "\n",
        "\n",
        "import TheoreticallyOptimalStrategy as tos\n",
        "from TheoreticallyOptimalStrategy import testPolicy, get_stock_data\n",
        "\n",
        "\n",
        "def author():\n",
        "  return \"yzheng438\"\n",
        "\n",
        "\n",
        "def main():\n",
        "    \"\"\"\n",
        "    主函数，执行整个项目流程\n",
        "    \"\"\"\n",
        "    # 设置股票符号和日期范围\n",
        "    symbol = 'JPM'\n",
        "    start_date = '2008-01-01'\n",
        "    end_date = '2009-12-31'\n",
        "    start_value=100000\n",
        "    initial_cash=100000\n",
        "\n",
        "    # 获取股票数据\n",
        "    stock_data = get_stock_data(symbol, start_date, end_date)\n",
        "\n",
        "\n",
        "    # 运行所有技术指标并生成图表\n",
        "    indicators = work_all_indicators(stock_data)\n",
        "    ind.plot_indicators(stock_data, indicators)\n",
        "\n",
        "\n",
        "    # 计算理论上的最佳交易策略\n",
        "    trades = testPolicy(symbol, start_date, end_date, start_value)\n",
        "\n",
        "    # 执行市场模拟\n",
        "    portfolio_values = market_simulator(trades, initial_cash)\n",
        "\n",
        "    # 生成统计数据和图表\n",
        "    cumulative_return, mean_daily_return, std_daily_return, sharpe_ratio = generate_statistics(portfolio_values)\n",
        "\n",
        "    # 打印统计数据\n",
        "    print(\"Cumulative Return:\", cumulative_return)\n",
        "    print(\"Mean Daily Return:\", mean_daily_return)\n",
        "    print(\"Standard Deviation of Daily Return:\", std_daily_return)\n",
        "    print(\"Sharpe Ratio:\", sharpe_ratio)\n",
        "\n",
        "     # 获取基准数据\n",
        "    benchmark = get_data([symbol], pd.date_range(start_date, end_date))\n",
        "    benchmark = benchmark[symbol] * 1000  # 假设买入1000股并持有\n",
        "\n",
        "    # 生成并保存投资组合价值的图表\n",
        "    benchmark_values = portfolio_values['benchmark']\n",
        "    portfolio_values = portfolio_values['portfolio']\n",
        "\n",
        "\n",
        "    # 计算基准统计数据\n",
        "    benchmark_cum_return = (benchmark[-1] / benchmark[0]) - 1\n",
        "    benchmark_daily_returns = benchmark.pct_change().dropna()\n",
        "    benchmark_mean_daily_return = benchmark_daily_returns.mean()\n",
        "    benchmark_std_daily_return = benchmark_daily_returns.std()\n",
        "\n",
        "\n",
        "    plt.figure(figsize=(10, 6))\n",
        "    plt.plot(portfolio_values.index, portfolio_values / portfolio_values.iloc[0], label='Portfolio', color='blue')\n",
        "    plt.plot(benchmark_values.index, benchmark_values / benchmark_values.iloc[0], label='Benchmark', color='red')\n",
        "    plt.title('Portfolio vs. Benchmark')\n",
        "    plt.xlabel('Date')\n",
        "    plt.ylabel('Normalized Value')\n",
        "    plt.legend(loc='best')\n",
        "    plt.grid(True)\n",
        "    plt.savefig('Figure_6_Portfolio_vs_Benchmark.png')\n",
        "    plt.close()\n",
        "\n",
        "if __name__ == \"__main__\":\n",
        "    main()"
      ]
    }
  ]
}